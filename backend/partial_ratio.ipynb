{
 "cells": [
  {
   "cell_type": "code",
   "execution_count": 78,
   "metadata": {},
   "outputs": [],
   "source": [
    "from pathlib import Path\n",
    "from rapidfuzz.fuzz import ratio\n",
    "from rapidfuzz import process, fuzz\n",
    "import pandas as pd\n",
    "import re\n",
    "\n",
    "csv_file_path =  \"schrute.csv\"\n",
    "df = pd.read_csv(csv_file_path, header=0)\n",
    "df['lower'] = df['text'].str.lower()\n",
    "df['lower'] = df['lower'].str.strip()"
   ]
  },
  {
   "cell_type": "code",
   "execution_count": 88,
   "metadata": {},
   "outputs": [
    {
     "name": "stdout",
     "output_type": "stream",
     "text": [
      "Partial Ratio Score: 60.37735849056604%\n"
     ]
    }
   ],
   "source": [
    "def partial_ratio_word_level(str1, str2, **kwargs):\n",
    "    words1 = str1.split()\n",
    "    words2 = str2.split()\n",
    "    len1 = len(words1)\n",
    "    len2 = len(words2)\n",
    "    if len1 > len2:\n",
    "        return 0.0\n",
    "    best_score = 0.0\n",
    "    max_start = len2 - len1 + 1\n",
    "    ratio = fuzz.ratio\n",
    "    for i in range(max_start):\n",
    "        substring_words = words2[i:i+len1]\n",
    "        score = ratio(\" \".join(words1), \" \".join(substring_words))\n",
    "        if score > best_score:\n",
    "            best_score = score\n",
    "    return best_score\n",
    "\n",
    "# Example usage\n",
    "string1 = \"do you also get two week\"\n",
    "\n",
    "string2 = \"it's going to be super weird, he just fired you last week.\"\n",
    "string2 = \"Okay, Michael handed in his 2-week notice, did you also hand in your 2-week?\"\n",
    "# string2 = \"do you want to get some breakfast or something?\"\n",
    "score = partial_ratio_word_level(string1, string2)\n",
    "print(f\"Partial Ratio Score: {score}%\")  # Output: 100.00%"
   ]
  },
  {
   "cell_type": "code",
   "execution_count": 24,
   "metadata": {},
   "outputs": [],
   "source": [
    "def fast_scorer(a, b, **kwargs):\n",
    "    # Ignore comparisons if b is shorter than a\n",
    "    if len(b) < len(a):\n",
    "        return 0  # Return a score of 0 if b can't be a match\n",
    "\n",
    "    # Otherwise, use the default partial ratio for speed\n",
    "    return fuzz.partial_ratio(a, b)"
   ]
  },
  {
   "cell_type": "code",
   "execution_count": 90,
   "metadata": {},
   "outputs": [
    {
     "data": {
      "text/plain": [
       "[('okay, michael handed in his 2-week notice, did you also hand in your 2-week?',\n",
       "  74.07407407407408,\n",
       "  24163),\n",
       " (\"why do you always do that? whenever i'm getting married, you don't believe me.\",\n",
       "  67.85714285714286,\n",
       "  20169),\n",
       " ('why do you need to wear the holster at all?', 66.66666666666667, 40712),\n",
       " ('do you want to see a video of a weatherman who says \"bold front\" instead of \"cold front\"? it\\'s insane.',\n",
       "  66.66666666666667,\n",
       "  54291),\n",
       " ('no, no. um, you always want to keep a sweater or cardigan of some sort, in case it gets drafty.',\n",
       "  65.38461538461539,\n",
       "  12297)]"
      ]
     },
     "execution_count": 90,
     "metadata": {},
     "output_type": "execute_result"
    }
   ],
   "source": [
    "# Example data\n",
    "query = \"do you also hand two week\"\n",
    "# Perform matching\n",
    "fuzz_match = process.extract(\n",
    "        query, choices=df['lower'], scorer=partial_ratio_word_level, limit=5)\n",
    "fuzz_match"
   ]
  },
  {
   "cell_type": "code",
   "execution_count": null,
   "metadata": {},
   "outputs": [],
   "source": []
  }
 ],
 "metadata": {
  "kernelspec": {
   "display_name": "Python 3",
   "language": "python",
   "name": "python3"
  },
  "language_info": {
   "codemirror_mode": {
    "name": "ipython",
    "version": 3
   },
   "file_extension": ".py",
   "mimetype": "text/x-python",
   "name": "python",
   "nbconvert_exporter": "python",
   "pygments_lexer": "ipython3",
   "version": "3.11.10"
  }
 },
 "nbformat": 4,
 "nbformat_minor": 2
}

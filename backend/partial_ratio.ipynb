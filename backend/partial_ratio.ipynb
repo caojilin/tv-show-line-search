{
 "cells": [
  {
   "cell_type": "code",
   "execution_count": 13,
   "metadata": {},
   "outputs": [
    {
     "name": "stdout",
     "output_type": "stream",
     "text": [
      "Partial Ratio Score: 100.0%\n"
     ]
    }
   ],
   "source": [
    "from Levenshtein import ratio\n",
    "\n",
    "def partial_ratio(str1, str2):\n",
    "    if len(str1) < len(str2):\n",
    "        str1, str2 = str2, str1  # Ensure str1 is the longer string\n",
    "\n",
    "    best_score = 0\n",
    "\n",
    "    # Generate all substrings of the shorter string\n",
    "    for start in range(len(str1)):\n",
    "        for end in range(start + 1, len(str1) + 1):\n",
    "            substring = str1[start:end]\n",
    "            # Calculate similarity score with the longer string\n",
    "            score = ratio(substring, str1)\n",
    "            # Calculate the score as a percentage\n",
    "            best_score = max(best_score, score)\n",
    "\n",
    "    return best_score*100\n",
    "\n",
    "# Example usage\n",
    "string1 = \"i shouldn't have said that\"\n",
    "string2 = \"Probably shouldn't have said that.\"\n",
    "\n",
    "score = partial_ratio(string1, string2)\n",
    "print(f\"Partial Ratio Score: {score}%\")  # Output: 100.00%\n"
   ]
  },
  {
   "cell_type": "code",
   "execution_count": null,
   "metadata": {},
   "outputs": [],
   "source": []
  }
 ],
 "metadata": {
  "kernelspec": {
   "display_name": "3.12.7",
   "language": "python",
   "name": "python3"
  },
  "language_info": {
   "codemirror_mode": {
    "name": "ipython",
    "version": 3
   },
   "file_extension": ".py",
   "mimetype": "text/x-python",
   "name": "python",
   "nbconvert_exporter": "python",
   "pygments_lexer": "ipython3",
   "version": "3.12.7"
  }
 },
 "nbformat": 4,
 "nbformat_minor": 2
}

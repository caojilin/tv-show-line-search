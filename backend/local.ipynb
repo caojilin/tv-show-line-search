{
 "cells": [
  {
   "cell_type": "code",
   "execution_count": 31,
   "metadata": {},
   "outputs": [],
   "source": [
    "from sentence_transformers import SentenceTransformer\n",
    "import pandas as pd\n",
    "import numpy as np\n",
    "import pickle\n",
    "import json\n"
   ]
  },
  {
   "cell_type": "code",
   "execution_count": 5,
   "metadata": {},
   "outputs": [],
   "source": [
    "# model = SentenceTransformer(\"intfloat/multilingual-e5-large-instruct\")\n",
    "# sentences = [\n",
    "#     \"The weather is lovely today.\",\n",
    "#     \"It's so sunny outside!\",\n",
    "#     \"He drove to the stadium.\"\n",
    "# ]\n",
    "# embeddings = model.encode(sentences)\n",
    "# similarities = model.similarity(embeddings, embeddings)\n",
    "# print(similarities.shape)\n",
    "# # [3, 3]"
   ]
  },
  {
   "cell_type": "code",
   "execution_count": 6,
   "metadata": {},
   "outputs": [],
   "source": [
    "# model.save(\"./intfloat/multilingual-e5-large-instruct\")"
   ]
  },
  {
   "cell_type": "markdown",
   "metadata": {},
   "source": [
    "The Office"
   ]
  },
  {
   "cell_type": "code",
   "execution_count": 7,
   "metadata": {},
   "outputs": [],
   "source": [
    "# # Get the folder where this script is located\n",
    "# df = pd.read_csv(\"schrute.csv\", header=0)\n",
    "# print(df.columns)\n",
    "# df['lower'] = df['text'].str.lower()\n",
    "# df['lower'] = df['lower'].str.strip()\n",
    "# # Replace empty strings with NaN and then drop those rows\n",
    "# df.replace(pd.NA, \"\", inplace=True)\n",
    "# sentences = df['text'].tolist()"
   ]
  },
  {
   "cell_type": "markdown",
   "metadata": {},
   "source": [
    "TBBT"
   ]
  },
  {
   "cell_type": "code",
   "execution_count": 8,
   "metadata": {},
   "outputs": [],
   "source": [
    "df = pd.read_csv('TBBT.csv')"
   ]
  },
  {
   "cell_type": "code",
   "execution_count": 9,
   "metadata": {},
   "outputs": [],
   "source": [
    "# df = df[['index',\n",
    "#  'season',\n",
    "#  'episode',\n",
    "#  'episode_name',\n",
    "#  'director',\n",
    "#  'writer',\n",
    "#  'character',\n",
    "#  'text',\n",
    "#  'text_w_direction']]"
   ]
  },
  {
   "cell_type": "code",
   "execution_count": 10,
   "metadata": {},
   "outputs": [],
   "source": [
    "# df.to_csv(\"TBBT.csv\", index=False)"
   ]
  },
  {
   "cell_type": "code",
   "execution_count": 11,
   "metadata": {},
   "outputs": [],
   "source": [
    "# sentences = df['text'].tolist()\n",
    "# all_embeddings = []\n",
    "# for i in range(0, len(df['text']), 10000):\n",
    "#     print(i, i+10000)\n",
    "#     embeddings = model.encode(sentences[i:i+10000])\n",
    "#     all_embeddings.append(embeddings)\n",
    "# combined_vertical = np.vstack(all_embeddings)\n",
    "# # Step 2: Pickle the array\n",
    "# with open('TBBT.pkl', 'wb') as f:\n",
    "#     pickle.dump(combined_vertical, f)\n"
   ]
  },
  {
   "cell_type": "code",
   "execution_count": 12,
   "metadata": {},
   "outputs": [
    {
     "data": {
      "text/html": [
       "<div>\n",
       "<style scoped>\n",
       "    .dataframe tbody tr th:only-of-type {\n",
       "        vertical-align: middle;\n",
       "    }\n",
       "\n",
       "    .dataframe tbody tr th {\n",
       "        vertical-align: top;\n",
       "    }\n",
       "\n",
       "    .dataframe thead th {\n",
       "        text-align: right;\n",
       "    }\n",
       "</style>\n",
       "<table border=\"1\" class=\"dataframe\">\n",
       "  <thead>\n",
       "    <tr style=\"text-align: right;\">\n",
       "      <th></th>\n",
       "      <th>index</th>\n",
       "      <th>season</th>\n",
       "      <th>episode</th>\n",
       "      <th>episode_name</th>\n",
       "      <th>director</th>\n",
       "      <th>writer</th>\n",
       "      <th>character</th>\n",
       "      <th>text</th>\n",
       "      <th>text_w_direction</th>\n",
       "    </tr>\n",
       "  </thead>\n",
       "  <tbody>\n",
       "    <tr>\n",
       "      <th>0</th>\n",
       "      <td>0</td>\n",
       "      <td>1</td>\n",
       "      <td>1</td>\n",
       "      <td>Pilot Episode</td>\n",
       "      <td>NaN</td>\n",
       "      <td>NaN</td>\n",
       "      <td>Scene</td>\n",
       "      <td>A corridor at a sperm bank.</td>\n",
       "      <td>NaN</td>\n",
       "    </tr>\n",
       "    <tr>\n",
       "      <th>1</th>\n",
       "      <td>1</td>\n",
       "      <td>1</td>\n",
       "      <td>1</td>\n",
       "      <td>Pilot Episode</td>\n",
       "      <td>NaN</td>\n",
       "      <td>NaN</td>\n",
       "      <td>Sheldon</td>\n",
       "      <td>So if a photon is directed through a plane wi...</td>\n",
       "      <td>NaN</td>\n",
       "    </tr>\n",
       "    <tr>\n",
       "      <th>2</th>\n",
       "      <td>2</td>\n",
       "      <td>1</td>\n",
       "      <td>1</td>\n",
       "      <td>Pilot Episode</td>\n",
       "      <td>NaN</td>\n",
       "      <td>NaN</td>\n",
       "      <td>Leonard</td>\n",
       "      <td>Agreed, what’s your point?</td>\n",
       "      <td>NaN</td>\n",
       "    </tr>\n",
       "    <tr>\n",
       "      <th>3</th>\n",
       "      <td>3</td>\n",
       "      <td>1</td>\n",
       "      <td>1</td>\n",
       "      <td>Pilot Episode</td>\n",
       "      <td>NaN</td>\n",
       "      <td>NaN</td>\n",
       "      <td>Sheldon</td>\n",
       "      <td>There’s no point, I just think it’s a good id...</td>\n",
       "      <td>NaN</td>\n",
       "    </tr>\n",
       "    <tr>\n",
       "      <th>4</th>\n",
       "      <td>4</td>\n",
       "      <td>1</td>\n",
       "      <td>1</td>\n",
       "      <td>Pilot Episode</td>\n",
       "      <td>NaN</td>\n",
       "      <td>NaN</td>\n",
       "      <td>Leonard</td>\n",
       "      <td>Excuse me?</td>\n",
       "      <td>NaN</td>\n",
       "    </tr>\n",
       "    <tr>\n",
       "      <th>...</th>\n",
       "      <td>...</td>\n",
       "      <td>...</td>\n",
       "      <td>...</td>\n",
       "      <td>...</td>\n",
       "      <td>...</td>\n",
       "      <td>...</td>\n",
       "      <td>...</td>\n",
       "      <td>...</td>\n",
       "      <td>...</td>\n",
       "    </tr>\n",
       "    <tr>\n",
       "      <th>54401</th>\n",
       "      <td>54401</td>\n",
       "      <td>10</td>\n",
       "      <td>24</td>\n",
       "      <td>The Long Distance Dissonance</td>\n",
       "      <td>NaN</td>\n",
       "      <td>NaN</td>\n",
       "      <td>Sheldon</td>\n",
       "      <td>And I with you. Question, are you seeking a r...</td>\n",
       "      <td>NaN</td>\n",
       "    </tr>\n",
       "    <tr>\n",
       "      <th>54402</th>\n",
       "      <td>54402</td>\n",
       "      <td>10</td>\n",
       "      <td>24</td>\n",
       "      <td>The Long Distance Dissonance</td>\n",
       "      <td>NaN</td>\n",
       "      <td>NaN</td>\n",
       "      <td>Ramona</td>\n",
       "      <td>What if I were?</td>\n",
       "      <td>NaN</td>\n",
       "    </tr>\n",
       "    <tr>\n",
       "      <th>54403</th>\n",
       "      <td>54403</td>\n",
       "      <td>10</td>\n",
       "      <td>24</td>\n",
       "      <td>The Long Distance Dissonance</td>\n",
       "      <td>NaN</td>\n",
       "      <td>NaN</td>\n",
       "      <td>Sheldon</td>\n",
       "      <td>Well, that would raise a number of problems. ...</td>\n",
       "      <td>NaN</td>\n",
       "    </tr>\n",
       "    <tr>\n",
       "      <th>54404</th>\n",
       "      <td>54404</td>\n",
       "      <td>10</td>\n",
       "      <td>24</td>\n",
       "      <td>The Long Distance Dissonance</td>\n",
       "      <td>NaN</td>\n",
       "      <td>NaN</td>\n",
       "      <td>Scene</td>\n",
       "      <td>Princeton.</td>\n",
       "      <td>NaN</td>\n",
       "    </tr>\n",
       "    <tr>\n",
       "      <th>54405</th>\n",
       "      <td>54405</td>\n",
       "      <td>10</td>\n",
       "      <td>24</td>\n",
       "      <td>The Long Distance Dissonance</td>\n",
       "      <td>NaN</td>\n",
       "      <td>NaN</td>\n",
       "      <td>Sheldon</td>\n",
       "      <td>(Knock, knock, knock) Amy. (Knock, knock, kno...</td>\n",
       "      <td>NaN</td>\n",
       "    </tr>\n",
       "  </tbody>\n",
       "</table>\n",
       "<p>54406 rows × 9 columns</p>\n",
       "</div>"
      ],
      "text/plain": [
       "       index  season  episode                  episode_name  director  writer  \\\n",
       "0          0       1        1                 Pilot Episode       NaN     NaN   \n",
       "1          1       1        1                 Pilot Episode       NaN     NaN   \n",
       "2          2       1        1                 Pilot Episode       NaN     NaN   \n",
       "3          3       1        1                 Pilot Episode       NaN     NaN   \n",
       "4          4       1        1                 Pilot Episode       NaN     NaN   \n",
       "...      ...     ...      ...                           ...       ...     ...   \n",
       "54401  54401      10       24  The Long Distance Dissonance       NaN     NaN   \n",
       "54402  54402      10       24  The Long Distance Dissonance       NaN     NaN   \n",
       "54403  54403      10       24  The Long Distance Dissonance       NaN     NaN   \n",
       "54404  54404      10       24  The Long Distance Dissonance       NaN     NaN   \n",
       "54405  54405      10       24  The Long Distance Dissonance       NaN     NaN   \n",
       "\n",
       "      character                                               text  \\\n",
       "0         Scene                        A corridor at a sperm bank.   \n",
       "1       Sheldon   So if a photon is directed through a plane wi...   \n",
       "2       Leonard                         Agreed, what’s your point?   \n",
       "3       Sheldon   There’s no point, I just think it’s a good id...   \n",
       "4       Leonard                                         Excuse me?   \n",
       "...         ...                                                ...   \n",
       "54401   Sheldon   And I with you. Question, are you seeking a r...   \n",
       "54402    Ramona                                    What if I were?   \n",
       "54403   Sheldon   Well, that would raise a number of problems. ...   \n",
       "54404     Scene                                        Princeton.    \n",
       "54405   Sheldon   (Knock, knock, knock) Amy. (Knock, knock, kno...   \n",
       "\n",
       "       text_w_direction  \n",
       "0                   NaN  \n",
       "1                   NaN  \n",
       "2                   NaN  \n",
       "3                   NaN  \n",
       "4                   NaN  \n",
       "...                 ...  \n",
       "54401               NaN  \n",
       "54402               NaN  \n",
       "54403               NaN  \n",
       "54404               NaN  \n",
       "54405               NaN  \n",
       "\n",
       "[54406 rows x 9 columns]"
      ]
     },
     "execution_count": 12,
     "metadata": {},
     "output_type": "execute_result"
    }
   ],
   "source": [
    "df"
   ]
  },
  {
   "cell_type": "code",
   "execution_count": 28,
   "metadata": {},
   "outputs": [
    {
     "data": {
      "text/plain": [
       "'The Property Division Collision'"
      ]
     },
     "execution_count": 28,
     "metadata": {},
     "output_type": "execute_result"
    }
   ],
   "source": [
    "df[(df['season'] == 10) & (df['episode']==10)]['episode_name'].unique()[0]"
   ]
  },
  {
   "cell_type": "code",
   "execution_count": 29,
   "metadata": {},
   "outputs": [],
   "source": [
    "data = []\n",
    "for season in range(1,11):\n",
    "    obj = {\n",
    "    \"title\": f\"season {season}\",\n",
    "    \"value\": f\"{season}\",\n",
    "    \"selectable\": False,\n",
    "    \"children\": []\n",
    "  }\n",
    "    children = []\n",
    "    max_episode = max(df[df['season'] == season]['episode'])\n",
    "    for episode in range(1, max_episode+1):\n",
    "      episode_name = df[(df['season'] == season) & (df['episode']==episode)]['episode_name'].unique()[0]\n",
    "      children.append({ \"title\": f\"season {season} episode {episode} - {episode_name}\", \"value\": f\"{season}-{episode}\" }  )\n",
    "    obj[\"children\"] = children\n",
    "    data.append(obj)\n",
    "    "
   ]
  },
  {
   "cell_type": "code",
   "execution_count": 32,
   "metadata": {},
   "outputs": [],
   "source": [
    "with open(\"season_episode.json\", \"w\") as json_file:\n",
    "    json.dump(data, json_file, indent=4)\n"
   ]
  },
  {
   "cell_type": "code",
   "execution_count": 33,
   "metadata": {},
   "outputs": [],
   "source": [
    "df.to_json(\"data.json\", orient='records', indent=4)\n"
   ]
  },
  {
   "cell_type": "markdown",
   "metadata": {},
   "source": [
    "# sec 2"
   ]
  },
  {
   "cell_type": "code",
   "execution_count": 5,
   "metadata": {},
   "outputs": [],
   "source": [
    "\n",
    "# Step 3: Unpickle the array\n",
    "with open('combined_vertical.pkl', 'rb') as f:\n",
    "    combined_vertical = pickle.load(f)"
   ]
  },
  {
   "cell_type": "code",
   "execution_count": 17,
   "metadata": {},
   "outputs": [],
   "source": [
    "query = \"Bears, beets, Battlestar Galactica.\"\n",
    "query = \"out of your hands\"\n",
    "query_embedding = model.encode(query)"
   ]
  },
  {
   "cell_type": "code",
   "execution_count": 18,
   "metadata": {},
   "outputs": [
    {
     "data": {
      "text/plain": [
       "[10067, 52462, 39578, 39570, 26538, 8992, 26537, 39557, 5480, 38165]"
      ]
     },
     "execution_count": 18,
     "metadata": {},
     "output_type": "execute_result"
    }
   ],
   "source": [
    "scores = model.similarity(query_embedding, combined_vertical)[0]\n",
    "indices = np.argsort(scores).tolist()[::-1][:10]\n",
    "indices"
   ]
  },
  {
   "cell_type": "code",
   "execution_count": 19,
   "metadata": {},
   "outputs": [
    {
     "data": {
      "text/plain": [
       "index                                                         2\n",
       "season                                                        1\n",
       "episode                                                       1\n",
       "episode_name                                              Pilot\n",
       "director                                             Ken Kwapis\n",
       "writer              Ricky Gervais;Stephen Merchant;Greg Daniels\n",
       "character                                                   Jim\n",
       "text                 Oh, I told you. I couldn't close it. So...\n",
       "text_w_direction     Oh, I told you. I couldn't close it. So...\n",
       "lower                oh, i told you. i couldn't close it. so...\n",
       "Name: 1, dtype: object"
      ]
     },
     "execution_count": 19,
     "metadata": {},
     "output_type": "execute_result"
    }
   ],
   "source": [
    "df.loc[1]"
   ]
  },
  {
   "cell_type": "code",
   "execution_count": 20,
   "metadata": {},
   "outputs": [
    {
     "data": {
      "text/plain": [
       "10067    Your hands.\n",
       "52462    Put it down\n",
       "39578               \n",
       "39570               \n",
       "26538               \n",
       "8992                \n",
       "26537               \n",
       "39557               \n",
       "5480                \n",
       "38165               \n",
       "Name: text, dtype: object"
      ]
     },
     "execution_count": 20,
     "metadata": {},
     "output_type": "execute_result"
    }
   ],
   "source": [
    "df.loc[indices]['text']"
   ]
  },
  {
   "cell_type": "code",
   "execution_count": null,
   "metadata": {},
   "outputs": [],
   "source": []
  }
 ],
 "metadata": {
  "kernelspec": {
   "display_name": "3.11.10",
   "language": "python",
   "name": "python3"
  },
  "language_info": {
   "codemirror_mode": {
    "name": "ipython",
    "version": 3
   },
   "file_extension": ".py",
   "mimetype": "text/x-python",
   "name": "python",
   "nbconvert_exporter": "python",
   "pygments_lexer": "ipython3",
   "version": "3.11.10"
  }
 },
 "nbformat": 4,
 "nbformat_minor": 2
}
